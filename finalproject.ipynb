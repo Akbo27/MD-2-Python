{
 "cells": [
  {
   "cell_type": "markdown",
   "metadata": {},
   "source": [
    "Movie Ticket Booking System\n",
    "\n",
    "Overview: Develop a system to allow users to book movie tickets.\n",
    "\n",
    "Key Features:\n",
    "Allow users to select movies, showtimes, and seats.\n",
    "Track availability and prevent double booking.\n",
    "Calculate total costs based on the number of tickets and any discounts.\n",
    "\n",
    "OOP Concepts:\n",
    "Classes: Create classes for Movie, Screening, Ticket, and Theater.\n",
    "Inheritance: Different types of screenings (e.g., 3D vs. regular) could be subclasses of Screening.\n",
    "\n",
    "Additional Elements:\n",
    "Save booking information using file handling.\n",
    "Use Matplotlib to visualize seating arrangement and availability."
   ]
  }
 ],
 "metadata": {
  "language_info": {
   "name": "python"
  }
 },
 "nbformat": 4,
 "nbformat_minor": 2
}
