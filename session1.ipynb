{
 "cells": [
  {
   "cell_type": "markdown",
   "metadata": {},
   "source": [
    "List Comprehension"
   ]
  },
  {
   "cell_type": "code",
   "execution_count": 50,
   "metadata": {},
   "outputs": [
    {
     "data": {
      "text/plain": [
       "[0, 0, 0, 0, 0, 0, 0, 0, 0, 0]"
      ]
     },
     "execution_count": 50,
     "metadata": {},
     "output_type": "execute_result"
    }
   ],
   "source": [
    "zeroes = []\n",
    "for i in range(10):\n",
    "    zeroes.append(0)\n",
    "\n",
    "zeroes"
   ]
  },
  {
   "cell_type": "code",
   "execution_count": 51,
   "metadata": {},
   "outputs": [
    {
     "data": {
      "text/plain": [
       "[0, 0]"
      ]
     },
     "execution_count": 51,
     "metadata": {},
     "output_type": "execute_result"
    }
   ],
   "source": [
    "zeroes = [0 for _ in range(2)]\n",
    "zeroes"
   ]
  },
  {
   "cell_type": "code",
   "execution_count": 52,
   "metadata": {},
   "outputs": [],
   "source": [
    "numbers = [i for i in range(5)]"
   ]
  },
  {
   "cell_type": "markdown",
   "metadata": {},
   "source": [
    "List/ Conditional "
   ]
  },
  {
   "cell_type": "code",
   "execution_count": 53,
   "metadata": {},
   "outputs": [
    {
     "data": {
      "text/plain": [
       "[0, 2, 4]"
      ]
     },
     "execution_count": 53,
     "metadata": {},
     "output_type": "execute_result"
    }
   ],
   "source": [
    "#With List Comprehension \n",
    "even_nums = [n for n in numbers if n % 2 ==0]\n",
    "even_nums"
   ]
  },
  {
   "cell_type": "code",
   "execution_count": 54,
   "metadata": {},
   "outputs": [
    {
     "data": {
      "text/plain": [
       "[0, 7, 14, 21, 28, 35, 42, 49, 56, 63, 70, 77, 84, 91, 98]"
      ]
     },
     "execution_count": 54,
     "metadata": {},
     "output_type": "execute_result"
    }
   ],
   "source": [
    "multi_7 = [n for n in range(100) if n % 7 == 0]\n",
    "multi_7"
   ]
  },
  {
   "cell_type": "code",
   "execution_count": 55,
   "metadata": {},
   "outputs": [],
   "source": [
    "l = [ 0 for _ in range(10000)]\n",
    "\n",
    "l = []\n",
    "for _ in range(10000):\n",
    "    l.append(0)"
   ]
  },
  {
   "cell_type": "code",
   "execution_count": 47,
   "metadata": {},
   "outputs": [
    {
     "data": {
      "text/plain": [
       "['even', 'odd', 'even', 'odd', 'even']"
      ]
     },
     "execution_count": 47,
     "metadata": {},
     "output_type": "execute_result"
    }
   ],
   "source": [
    "# Syntax\n",
    "numbers = [ 'even' if n % 2 == 0 else 'odd' for n in range(5)]\n",
    "numbers"
   ]
  },
  {
   "cell_type": "markdown",
   "metadata": {},
   "source": [
    "Function Structure Recap"
   ]
  },
  {
   "cell_type": "code",
   "execution_count": 48,
   "metadata": {},
   "outputs": [
    {
     "data": {
      "text/plain": [
       "16"
      ]
     },
     "execution_count": 48,
     "metadata": {},
     "output_type": "execute_result"
    }
   ],
   "source": [
    "def square(x : int) -> int:\n",
    "    return x ** 2\n",
    "\n",
    "square(4)"
   ]
  },
  {
   "cell_type": "markdown",
   "metadata": {},
   "source": []
  },
  {
   "cell_type": "code",
   "execution_count": 49,
   "metadata": {},
   "outputs": [
    {
     "ename": "SyntaxError",
     "evalue": "incomplete input (3964956534.py, line 2)",
     "output_type": "error",
     "traceback": [
      "\u001b[1;36m  Cell \u001b[1;32mIn[49], line 2\u001b[1;36m\u001b[0m\n\u001b[1;33m    \u001b[0m\n\u001b[1;37m    ^\u001b[0m\n\u001b[1;31mSyntaxError\u001b[0m\u001b[1;31m:\u001b[0m incomplete input\n"
     ]
    }
   ],
   "source": [
    "def get_three_chars(name: str) ->tuple:\n",
    "    "
   ]
  },
  {
   "cell_type": "code",
   "execution_count": 11,
   "metadata": {},
   "outputs": [
    {
     "name": "stdout",
     "output_type": "stream",
     "text": [
      "Hey! Pop\n"
     ]
    }
   ],
   "source": [
    "def greet_person(name,greeting = \"Hi!\"):\n",
    "    print(greeting,name)\n",
    "\n",
    "greet_person(\"Pop\" , \"Hey!\")"
   ]
  },
  {
   "cell_type": "markdown",
   "metadata": {},
   "source": [
    "*args, **kwargs"
   ]
  },
  {
   "cell_type": "code",
   "execution_count": 12,
   "metadata": {},
   "outputs": [
    {
     "name": "stdout",
     "output_type": "stream",
     "text": [
      "() {}\n"
     ]
    }
   ],
   "source": [
    "def greet_person(name, age = 10, *args, **kwargs):\n",
    "    print(args, kwargs)\n",
    "\n",
    "greet_person(\"Pop\")"
   ]
  },
  {
   "cell_type": "code",
   "execution_count": null,
   "metadata": {},
   "outputs": [],
   "source": [
    "name2 = 5\n",
    "name3 = 4\n",
    "name6 = 6\n",
    "def my_print(*args, **kwargs):\n",
    "    "
   ]
  },
  {
   "cell_type": "markdown",
   "metadata": {},
   "source": [
    "Recursive Function"
   ]
  },
  {
   "cell_type": "code",
   "execution_count": null,
   "metadata": {},
   "outputs": [],
   "source": [
    "def f(x):\n",
    "    x += 1\n",
    "    print(x)\n",
    "    return f(x)"
   ]
  },
  {
   "cell_type": "code",
   "execution_count": 13,
   "metadata": {},
   "outputs": [
    {
     "data": {
      "text/plain": [
       "120"
      ]
     },
     "execution_count": 13,
     "metadata": {},
     "output_type": "execute_result"
    }
   ],
   "source": [
    "def factorial(x):\n",
    "    if x == 1:\n",
    "        return 1\n",
    "    return x * factorial(x - 1)\n",
    "\n",
    "factorial (5)"
   ]
  },
  {
   "cell_type": "code",
   "execution_count": null,
   "metadata": {},
   "outputs": [],
   "source": [
    "import time\n",
    "\n",
    "t1 = time.time()\n",
    "result = factorial (5)\n",
    "t2 = time.time()\n",
    "print('Time usage for factorial 5:' , t2 - t1)\n",
    "result = factorial (800)\n",
    "t3 = time.time()\n",
    "print('Time usage for factorial 500:',t3 - t1)"
   ]
  },
  {
   "cell_type": "markdown",
   "metadata": {},
   "source": [
    "Anonymous Function"
   ]
  },
  {
   "cell_type": "code",
   "execution_count": 16,
   "metadata": {},
   "outputs": [],
   "source": [
    "f = lambda x: x**2\n",
    "f(2)"
   ]
  },
  {
   "cell_type": "code",
   "execution_count": 17,
   "metadata": {},
   "outputs": [],
   "source": [
    "def square(x):\n",
    "    return x ** 2 "
   ]
  },
  {
   "cell_type": "code",
   "execution_count": 18,
   "metadata": {},
   "outputs": [
    {
     "data": {
      "text/plain": [
       "20"
      ]
     },
     "execution_count": 18,
     "metadata": {},
     "output_type": "execute_result"
    }
   ],
   "source": [
    "f = lambda x,y: x * y\n",
    "f (4,5)"
   ]
  },
  {
   "cell_type": "code",
   "execution_count": 21,
   "metadata": {},
   "outputs": [],
   "source": [
    "f6 = lambda x : x.append(1)"
   ]
  },
  {
   "cell_type": "markdown",
   "metadata": {},
   "source": [
    "Using Map with traditional function"
   ]
  },
  {
   "cell_type": "code",
   "execution_count": null,
   "metadata": {},
   "outputs": [],
   "source": [
    "my_list = [1, 2, 3, 5]\n",
    "def squared(i):\n",
    "    return i ** 2\n",
    "\n",
    "result1 = map(squared, my_list)\n",
    "result 2 = list(map(squared, my_list))\n",
    "result1, result2"
   ]
  },
  {
   "cell_type": "code",
   "execution_count": null,
   "metadata": {},
   "outputs": [],
   "source": [
    "my_list = []\n",
    "\n",
    "def convert_to_int(i):\n",
    "    return i // 1"
   ]
  },
  {
   "cell_type": "code",
   "execution_count": null,
   "metadata": {},
   "outputs": [],
   "source": [
    "import math\n",
    "\n",
    "my_list = [ 1.2, 2.3, math.pi, 4/3]\n",
    "\n",
    "result1 = list(map(lambda))"
   ]
  },
  {
   "cell_type": "code",
   "execution_count": 23,
   "metadata": {},
   "outputs": [
    {
     "data": {
      "text/plain": [
       "[1, 4, 9, 16]"
      ]
     },
     "execution_count": 23,
     "metadata": {},
     "output_type": "execute_result"
    }
   ],
   "source": [
    "my_list = [1, 2, 3, 4]\n",
    "result = list (map(lambda x: x **2, my_list))\n",
    "result"
   ]
  },
  {
   "cell_type": "markdown",
   "metadata": {},
   "source": [
    "Global & Local Scope"
   ]
  },
  {
   "cell_type": "code",
   "execution_count": 27,
   "metadata": {},
   "outputs": [
    {
     "name": "stdout",
     "output_type": "stream",
     "text": [
      "21\n"
     ]
    }
   ],
   "source": [
    "very_important_num = 21\n",
    "\n",
    "def print_that_num ():\n",
    "    print(very_important_num)\n",
    "\n",
    "print_that_num()"
   ]
  },
  {
   "cell_type": "code",
   "execution_count": 28,
   "metadata": {},
   "outputs": [
    {
     "name": "stdout",
     "output_type": "stream",
     "text": [
      "2\n"
     ]
    }
   ],
   "source": [
    "def print_my_own_value():\n",
    "    very_important_num = 2\n",
    "    print(very_important_num)\n",
    "\n",
    "print_my_own_value()\n"
   ]
  },
  {
   "cell_type": "code",
   "execution_count": null,
   "metadata": {},
   "outputs": [],
   "source": [
    "def add_to_list_v2(num, target):\n",
    "    target = target.copy()\n",
    "    "
   ]
  },
  {
   "cell_type": "markdown",
   "metadata": {},
   "source": [
    "# Expressions for Value in iterable if condition"
   ]
  },
  {
   "cell_type": "markdown",
   "metadata": {},
   "source": [
    "# Tests"
   ]
  },
  {
   "cell_type": "code",
   "execution_count": 4,
   "metadata": {},
   "outputs": [
    {
     "data": {
      "text/plain": [
       "69"
      ]
     },
     "execution_count": 4,
     "metadata": {},
     "output_type": "execute_result"
    }
   ],
   "source": [
    "# Write a Python function to find the max of any numbers of arguments (don't use the build in function `max()\n",
    "\n",
    "def find_max(*args : tuple) -> int:\n",
    "    args = list(args)\n",
    "    args.sort()\n",
    "    return args[-1]\n",
    "\n",
    "find_max(69,1,2,7,3,4)"
   ]
  },
  {
   "cell_type": "code",
   "execution_count": 6,
   "metadata": {},
   "outputs": [
    {
     "data": {
      "text/plain": [
       "113.03999999999999"
      ]
     },
     "execution_count": 6,
     "metadata": {},
     "output_type": "execute_result"
    }
   ],
   "source": [
    "#Write a function that computes the volume of a sphere given its radius.\n",
    "#v = 4/3 pi r **3\n",
    "\n",
    "def sphere_vol(radi : float) -> float:\n",
    "    vol = (4/3) * 3.14 * (radi ** 3)\n",
    "    return vol\n",
    "\n",
    "sphere_vol(3)\n"
   ]
  },
  {
   "cell_type": "code",
   "execution_count": 1,
   "metadata": {},
   "outputs": [
    {
     "data": {
      "text/plain": [
       "True"
      ]
     },
     "execution_count": 1,
     "metadata": {},
     "output_type": "execute_result"
    }
   ],
   "source": [
    "#Write a function that checks whether a number is in a given range (Inclusive of high and low)\n",
    "\n",
    "def is_in_range(target : int, low : int, high : int) -> bool:\n",
    "    if low <= target <= high:\n",
    "        return True\n",
    "    else:\n",
    "        return False\n",
    "    \n",
    "is_in_range(10, 8, 20)"
   ]
  },
  {
   "cell_type": "code",
   "execution_count": 19,
   "metadata": {},
   "outputs": [
    {
     "data": {
      "text/plain": [
       "(2, 5)"
      ]
     },
     "execution_count": 19,
     "metadata": {},
     "output_type": "execute_result"
    }
   ],
   "source": [
    "#Write a Python function that accepts a string and calculate the number of upper case letters and lower case letters.\n",
    "\n",
    "def count_letters(my_string : str) -> tuple:\n",
    "    num_upper = 0\n",
    "    num_lower = 0\n",
    "\n",
    "    for char in my_string:\n",
    "        if char.isupper():\n",
    "            num_upper += 1\n",
    "        elif char.islower():\n",
    "            num_lower += 1\n",
    "    return num_upper,num_lower\n",
    "\n",
    "count_letters(\"AKbjjjj\")"
   ]
  },
  {
   "cell_type": "code",
   "execution_count": 22,
   "metadata": {},
   "outputs": [
    {
     "data": {
      "text/plain": [
       "[1, 2, 3, 4, 5]"
      ]
     },
     "execution_count": 22,
     "metadata": {},
     "output_type": "execute_result"
    }
   ],
   "source": [
    "#Write a Python function that takes a list and returns a new list with unique elements of the first list.\n",
    "#Please use list comprehension as well.\n",
    "\n",
    "def uni_elements(my_list : list) -> list:\n",
    "    unique = set(my_list)\n",
    "    return [item for item in unique]\n",
    "\n",
    "uni_elements([1, 2, 3, 1, 2, 4, 5]) \n",
    "\n"
   ]
  },
  {
   "cell_type": "code",
   "execution_count": 5,
   "metadata": {},
   "outputs": [
    {
     "name": "stdout",
     "output_type": "stream",
     "text": [
      "False\n"
     ]
    }
   ],
   "source": [
    "# Write a Python function to check whether a string is pangram or not.\n",
    "\n",
    "def check_pan (my_string : str) -> bool:\n",
    "    my_string = my_string.lower()\n",
    "    l = [char for char in my_string if char.isalpha()]\n",
    "    return len(set(l)) == 26\n",
    "\n",
    "print(check_pan(\"The quick brow fox jumps over the lazy dog@123\"))\n",
    "        "
   ]
  },
  {
   "cell_type": "code",
   "execution_count": 3,
   "metadata": {},
   "outputs": [
    {
     "data": {
      "text/plain": [
       "8"
      ]
     },
     "execution_count": 3,
     "metadata": {},
     "output_type": "execute_result"
    }
   ],
   "source": [
    "\n",
    "#Write a Python function to calculate the fibonacci number of index i (starts with 1). The function accepts the number as an argument and return a single number. The fibonacci sequence starts with 1,1,2,3,5,8,13,21,.... Therefore, fibonacci of index 6 is number 8.\n",
    "\n",
    "\n",
    "def fib(i : int) -> int: \n",
    "    if i == 1:\n",
    "        return 1\n",
    "    if i == 0:\n",
    "        return 0\n",
    "\n",
    "    return fib(i-1) + fib(i-2)\n",
    "\n",
    "fib(6)"
   ]
  },
  {
   "cell_type": "code",
   "execution_count": 1,
   "metadata": {},
   "outputs": [
    {
     "name": "stdout",
     "output_type": "stream",
     "text": [
      "['Hello', 'this', 'is', 'Bo']\n"
     ]
    },
    {
     "data": {
      "text/plain": [
       "[5, 4, 2, 2]"
      ]
     },
     "execution_count": 1,
     "metadata": {},
     "output_type": "execute_result"
    }
   ],
   "source": [
    "#Create a function which finds the length of each word in the phrase (broken by spaces) and return the values in a list. The function will have an input of a string, and output a list of integers.\n",
    "\n",
    "def list_int(input : str) -> list:\n",
    "    final_list = []\n",
    "    l = input.split()\n",
    "    print(l)\n",
    "    for word in l:\n",
    "        final_list += [len(word)]\n",
    "    \n",
    "    return final_list\n",
    "\n",
    "list_int(\"Hello this is Bo\")\n",
    "\n",
    "\n",
    "\n"
   ]
  },
  {
   "cell_type": "code",
   "execution_count": null,
   "metadata": {},
   "outputs": [],
   "source": [
    "#Write a function that accepts a list of tuples containing the name of the student and their score, sort them by the score from highest to lowest.\n",
    "\n",
    "# [(MgMg , 21), (Aung Aung, 43)]\n",
    "# [(Aung Aung, 43),(MgMg , 21)]\n",
    "\n",
    "def list_students(input : list) -> list:\n",
    "    input.sort(key = lambda eachTuple : eachTuple[1])\n",
    "    input.reverse()\n",
    "    return input\n",
    "\n"
   ]
  },
  {
   "cell_type": "code",
   "execution_count": 2,
   "metadata": {},
   "outputs": [
    {
     "name": "stdout",
     "output_type": "stream",
     "text": [
      "<function list_students at 0x0000023D32961BC0>\n"
     ]
    },
    {
     "data": {
      "text/plain": [
       "'Mg'"
      ]
     },
     "execution_count": 2,
     "metadata": {},
     "output_type": "execute_result"
    }
   ],
   "source": [
    "#Write a python function that accepts a list of tuples of length 2, where each tuple contains student name and their scores respectively.\n",
    "#The function should return the name of the student whose got maximum score. Using map(), and max() function is strictly prohibited.\n",
    "\n",
    "# [(\"Mg\", 94), (\"Bo\",55), (\"Sai\",69)]\n",
    "# \"Mg\"\n",
    "\n",
    "def list_students(input : list) -> str:\n",
    "    input.sort(key = lambda eachtuple : eachtuple[1])\n",
    "    input.reverse()\n",
    "\n",
    "    return input[0][0]\n",
    "\n",
    "list_students([(\"Mg\", 94), (\"Bo\",55), (\"Sai\",69)])"
   ]
  }
 ],
 "metadata": {
  "kernelspec": {
   "display_name": "Python 3",
   "language": "python",
   "name": "python3"
  },
  "language_info": {
   "codemirror_mode": {
    "name": "ipython",
    "version": 3
   },
   "file_extension": ".py",
   "mimetype": "text/x-python",
   "name": "python",
   "nbconvert_exporter": "python",
   "pygments_lexer": "ipython3",
   "version": "3.12.7"
  }
 },
 "nbformat": 4,
 "nbformat_minor": 2
}
