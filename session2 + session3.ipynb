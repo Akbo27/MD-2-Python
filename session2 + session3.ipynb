{
 "cells": [
  {
   "cell_type": "code",
   "execution_count": null,
   "metadata": {},
   "outputs": [],
   "source": [
    "import time\n",
    "def f(x):\n",
    "    if x == 1 or x == 2:"
   ]
  },
  {
   "cell_type": "markdown",
   "metadata": {},
   "source": [
    "## Error Handling"
   ]
  },
  {
   "cell_type": "code",
   "execution_count": 7,
   "metadata": {},
   "outputs": [
    {
     "name": "stdout",
     "output_type": "stream",
     "text": [
      "Result: V\n",
      "Ve and Due are the cutest\n"
     ]
    }
   ],
   "source": [
    "def sum_two_words(w1: str, w2: str) -> str:\n",
    "    return (w1 + w2)[0]\n",
    "\n",
    "w1 = 'Vetit' \n",
    "w2 = 'Rujipas' \n",
    "\n",
    "try:\n",
    "    result = sum_two_words(w1, w2)\n",
    "    print(\"Result:\", result)\n",
    "\n",
    "except TypeError:\n",
    "    print(\"One of the inputs is not a string.\")\n",
    "\n",
    "except IndexError:\n",
    "    print(\"The string is empty.\")\n",
    "\n",
    "finally:\n",
    "    print(\"Ve and Due are the cutest\")\n",
    "\n"
   ]
  },
  {
   "cell_type": "markdown",
   "metadata": {},
   "source": [
    "# OOP"
   ]
  },
  {
   "cell_type": "code",
   "execution_count": null,
   "metadata": {},
   "outputs": [],
   "source": []
  },
  {
   "cell_type": "code",
   "execution_count": null,
   "metadata": {},
   "outputs": [],
   "source": [
    "import math\n",
    "\n",
    "class Circle:\n",
    "    def __init__(self, radius):\n",
    "        self.radius = radius\n",
    "\n",
    "    def get_area(self):\n",
    "        return math.pi * (self.radius ** 2)\n",
    "\n",
    "    def get_circumference(self):\n",
    "        return 2 * math.pi * self.radius "
   ]
  },
  {
   "cell_type": "code",
   "execution_count": null,
   "metadata": {},
   "outputs": [],
   "source": [
    "class Rectangle:\n",
    "    def __init__(self, length, width):\n",
    "        self.length = length\n",
    "        self.width = width  \n",
    "\n",
    "    def get_area(self):\n",
    "        return self.length * self.width \n",
    "\n",
    "    def get_perimeter(self):\n",
    "        return 2 * (self.length + self.width) "
   ]
  },
  {
   "cell_type": "code",
   "execution_count": 2,
   "metadata": {},
   "outputs": [],
   "source": [
    "class Clock:\n",
    "    def __init__(self, hours, minutes):\n",
    "        self.hours = hours % 24 \n",
    "        self.minutes = minutes % 60 \n",
    "\n",
    "    def add_time(self, other_clock):\n",
    "        total_minutes = self.display_total_minutes() + other_clock.display_total_minutes()\n",
    "        self.hours = (total_minutes // 60) % 24\n",
    "        self.minutes = total_minutes % 60 \n",
    "\n",
    "    def display_time(self):\n",
    "        print(f\"{self.hours:02}:{self.minutes:02}\")\n",
    "\n",
    "    def display_total_minutes(self):\n",
    "        return self.hours * 60 + self.minutes\n"
   ]
  },
  {
   "cell_type": "code",
   "execution_count": null,
   "metadata": {},
   "outputs": [],
   "source": [
    "import math\n",
    "\n",
    "class RectangularCoordinates:\n",
    "    def __init__(self, x, y):\n",
    "        self.x = x\n",
    "        self.y = y\n",
    "\n",
    "    def get_position(self):\n",
    "        return (self.x, self.y)\n",
    "\n",
    "    def check_axis(self):\n",
    "        if self.x == 0 and self.y == 0:\n",
    "            return \"Origin\"\n",
    "        elif self.x == 0:\n",
    "            return \"Y-axis\"\n",
    "        elif self.y == 0:\n",
    "            return \"X-axis\"\n",
    "        else:\n",
    "            return \"Neither\"\n",
    "\n",
    "    def find_quadrant(self):\n",
    "        if self.x > 0 and self.y > 0:\n",
    "            return 1\n",
    "        elif self.x < 0 and self.y > 0:\n",
    "            return 2\n",
    "        elif self.x < 0 and self.y < 0:\n",
    "            return 3\n",
    "        elif self.x > 0 and self.y < 0:\n",
    "            return 4\n",
    "        else:\n",
    "            return \"On an axis or the origin\"\n",
    "\n",
    "    def distance_to_origin(self):\n",
    "        return math.sqrt(self.x**2 + self.y**2)\n",
    "\n",
    "    def calculate_distance(self, other):\n",
    "        if not isinstance(other, RectangularCoordinates):\n",
    "            raise ValueError(\"Argument must be an instance of RectangularCoordinates.\")\n",
    "        return math.sqrt((self.x - other.x) ** 2 + (self.y - other.y) ** 2)\n",
    "\n",
    "    def calculate_angle(self):\n",
    "        if self.x == 0 and self.y == 0:\n",
    "            return 0  # Angle is undefined at the origin\n",
    "        angle_rad = math.atan2(abs(self.y), abs(self.x))  # Angle in radians\n",
    "        angle_deg = math.degrees(angle_rad)  # Convert to degrees\n",
    "        return angle_deg"
   ]
  },
  {
   "cell_type": "code",
   "execution_count": null,
   "metadata": {},
   "outputs": [],
   "source": [
    "def get_country_name(phone_number):\n",
    "    if not isinstance(phone_number, str):\n",
    "        raise TypeError(\"The phone number must be a string.\")\n",
    "    \n",
    "    if not phone_number.startswith('+'):\n",
    "        raise LookupError(\"The phone number doesn't contain any country code.\")\n",
    "    \n",
    "    if len(phone_number) != 13:\n",
    "        raise ValueError(\"The phone number must contain exactly 13 characters, including the country code.\")\n",
    "    \n",
    "    country_code = phone_number[:3] \n",
    "\n",
    "    country_codes = {\n",
    "        \"+34\": \"Spain\",\n",
    "        \"+1\": \"United States\",\n",
    "        \"+44\": \"United Kingdom\",\n",
    "    }\n",
    "\n",
    "    my_country_code = \"+XX\"  \n",
    "    \n",
    "    if country_code == my_country_code:\n",
    "        return \"Your Native Country\"\n",
    "    elif country_code in country_codes:\n",
    "        return country_codes[country_code]\n",
    "    else:\n",
    "        return \"Unknown Country\""
   ]
  },
  {
   "cell_type": "code",
   "execution_count": null,
   "metadata": {},
   "outputs": [],
   "source": [
    "def get_country_name(phone_number):\n",
    "    assert isinstance(phone_number, str), \"The phone number must be a string.\"\n",
    "    \n",
    "    assert phone_number.startswith('+'), \"The phone number doesn't contain any country code.\"\n",
    "    \n",
    "    assert len(phone_number) == 13, \"The phone number must contain exactly 13 characters, including the country code.\"\n",
    "    \n",
    "    country_code = phone_number[:3] \n",
    "    \n",
    "    country_codes = {\n",
    "        \"+34\": \"Spain\",\n",
    "        \"+1\": \"United States\",\n",
    "        \"+44\": \"United Kingdom\",\n",
    "        \"+49\": \"Germany\",\n",
    "        \"+33\": \"France\",\n",
    "        \"+39\": \"Italy\",\n",
    "    }\n",
    "\n",
    "    my_country_code = \"+XX\"  \n",
    "\n",
    "    if country_code == my_country_code:\n",
    "        return \"Your Native Country\"\n",
    "\n",
    "    return country_codes.get(country_code, \"Unknown Country\")"
   ]
  },
  {
   "cell_type": "code",
   "execution_count": null,
   "metadata": {},
   "outputs": [],
   "source": [
    "def do_meaningless_things(argument):\n",
    "    answer = 0\n",
    "    array = [[1, 2, 3], [4.4, 5, \"6\"], ['list(\"78\")', 9.0, 10/(argument-5)], [None]]\n",
    "    \n",
    "    for i in range(4):\n",
    "        for j in range(argument):\n",
    "            answer += array[i][j]\n",
    "    \n",
    "    return answer\n",
    "\n",
    "try:\n",
    "    result = do_meaningless_things(3)\n",
    "except Exception as e:\n",
    "    print(\"An error occurred:\", e)\n",
    "else:\n",
    "    print(\"Everything went fine. Result:\", result)"
   ]
  },
  {
   "cell_type": "code",
   "execution_count": 3,
   "metadata": {},
   "outputs": [],
   "source": [
    "class LibraryItem:\n",
    "    def __init__(self, title, author, publication_year):\n",
    "        self.title = title\n",
    "        self.author = author\n",
    "        self.publication_year = publication_year\n",
    "\n",
    "    def get_item_info(self):\n",
    "        return (\n",
    "            f\"Title: {self.title}\\n\"\n",
    "            f\"Author: {self.author}\\n\"\n",
    "            f\"Year of Publication: {self.publication_year}\"\n",
    "        )\n",
    "\n",
    "class Book(LibraryItem):\n",
    "    def __init__(self, title, author, publication_year, genre):\n",
    "        super().__init__(title, author, publication_year)  \n",
    "\n",
    "    def get_item_info(self):\n",
    "        return (\n",
    "            f\"{super().get_item_info()}\\n\"\n",
    "            f\"Genre: {self.genre}\"\n",
    "        )\n",
    "\n",
    "class Magazine(LibraryItem):\n",
    "    def __init__(self, title, author, publication_year, issue_number):\n",
    "        super().__init__(title, author, publication_year)  \n",
    "        self.issue_number = issue_number\n",
    "\n",
    "    \n",
    "    def get_item_info(self):\n",
    "        return (\n",
    "            f\"{super().get_item_info()}\\n\"\n",
    "            f\"Issue Number: {self.issue_number}\"\n",
    "        )"
   ]
  },
  {
   "cell_type": "code",
   "execution_count": null,
   "metadata": {},
   "outputs": [],
   "source": [
    "class Person:\n",
    "    def __init__(self, name, age):\n",
    "        self.name = name\n",
    "        self.age = age\n",
    "\n",
    "    def display(self):\n",
    "        print(f\"Name: {self.name}\")\n",
    "        print(f\"Age: {self.age}\")\n",
    "\n",
    "class Student(Person):\n",
    "    def __init__(self, name, age, course):\n",
    "        super().__init__(name, age) \n",
    "        self.course = course\n",
    "\n",
    "    def display(self):\n",
    "        super().display() \n",
    "        print(f\"Course: {self.course}\")\n",
    "\n",
    "student1 = Student(name=\"Alice\", age=20, course=\"Computer Science\")\n",
    "\n",
    "student1.display()\n"
   ]
  }
 ],
 "metadata": {
  "kernelspec": {
   "display_name": "Python 3",
   "language": "python",
   "name": "python3"
  },
  "language_info": {
   "codemirror_mode": {
    "name": "ipython",
    "version": 3
   },
   "file_extension": ".py",
   "mimetype": "text/x-python",
   "name": "python",
   "nbconvert_exporter": "python",
   "pygments_lexer": "ipython3",
   "version": "3.12.7"
  }
 },
 "nbformat": 4,
 "nbformat_minor": 2
}
